














from ec.elliptic_curve import EllipticCurve


ecurve = EllipticCurve(0, 3, 23) # x^3 + 3x (mod 23)

p = (12, 11)
q = (1, 2)

print(ecurve.add_points(p, ecurve.PTATINF)) # P + O
print(ecurve.add_points(p, ecurve.add_points(q, ecurve.neg(p)))) # P + (Q - P) should give Q









from ecdh.ecdh import ECDH


alice = ECDH(p, ecurve)
bob = ECDH(p, ecurve)

a_pub = alice.get_public()
b_pub = bob.get_public()

print("Alice's public key: ", a_pub)
print("Bob's public key: ", b_pub)

print("Alice's shared key: ", alice.get_shared(b_pub))
print("Bob's shared key: ", bob.get_shared(a_pub))






