














from ec.elliptic_curve import EllipticCurve


# Define our Elliptic Curve
ecurve = EllipticCurve(0, 3, 23) # x^3 + 3x (mod 23)

# Define two of our points
p = (12, 11)
q = (1, 2)

# Print results from operations on Elliptic Curves with our points
print("P + O =", ecurve.add_points(p, ecurve.PTATINF)) # P + O
print("P + (Q - P) =", ecurve.add_points(p, ecurve.add_points(q, ecurve.neg(p)))) # P + (Q - P) should give Q









from ecdh.ecdh import ECDH


new_ecurve = EllipticCurve(0, 3, 19) # y^2 = x^3 + 3 (mod 19)
p = (1, 2)

# for i in range(19):
#     print(i, new_ecurve.scalar_product(i, p))

alice = ECDH(p, new_ecurve)
bob = ECDH(p, new_ecurve)

a_pub = alice.get_public()
b_pub = bob.get_public()

print("Alice's public key: ", a_pub)
print("Bob's public key: ", b_pub)

print("Alice's shared key: ", alice.get_shared(b_pub))
print("Bob's shared key: ", bob.get_shared(a_pub))





from ec_elgamal.ec_actor import ECActor


alice = ECActor(p, 13, new_ecurve) # 13p = O (point at infinity)
bob = ECActor(p, 13, new_ecurve)

# Calculate public keys for Alice and Bob
a_pub = alice.get_public()
b_pub = bob.get_public()

# Define the point we want to encrypt
to_encrypt = (11, 17)

# Have Alice encrypt the point
alice_encrypted = alice.encrypt(to_encrypt, b_pub)

# Have Bob encrypt the point
bob_encrypted = bob.encrypt(to_encrypt, a_pub)

# Print encrypted values
print("Alice's encrypted pair:", alice_encrypted)
print("Bob's encrypted pair:", bob_encrypted)

# Have Alice decrypt Bob's Encrypted values
alice_decrypted = alice.decrypt(bob_encrypted)

# Have Bob decrypt Alice's Encrypted values
bob_decrypted = bob.decrypt(alice_encrypted)

# Print decrypted values
print("Alice's decrypted value:", alice_decrypted)
print("Bob's decrypted value:", bob_decrypted)





# Define Secp256k1, the elliptic curve that Bitcoin uses. Parameters found here: https://en.bitcoin.it/wiki/Secp256k1

p = 0xFFFFFFFF_FFFFFFFF_FFFFFFFF_FFFFFFFF_FFFFFFFF_FFFFFFFF_FFFFFFFE_FFFFFC2F

ecurve = EllipticCurve(0, 7, p) # y^2 = x^2 + 7 (mod p)





# Define a generator point g and its order

g = (55066263022277343669578718895168534326250603453777594175500187360389116729240,
     32670510020758816978083085130507043184471273380659243275938904335757337482424)

ord_g = 0xFFFFFFFFFFFFFFFFFFFFFFFFFFFFFFFEBAAEDCE6AF48A03BBFD25E8CD0364141





# Define actors alice and bob
alice = ECDH(g, ecurve)
bob = ECDH(g, ecurve)

# Calculate respective public keys for alice and bob
a_pub = alice.get_public()
b_pub = bob.get_public()

# Display their public keys
print("Alice public:", a_pub)
print("Bob public:", b_pub)
print()

# Calculate respective shared keys
a_share = alice.get_shared(b_pub)
b_share = bob.get_shared(a_pub)
print()

# Display their shared keys
print("Alice shared:", alice.get_shared(b_pub))
print("Bob shared:", bob.get_shared(a_pub))
print()

# Are their keys equal?
print("Are Alice and Bob's shared keys equal:", a_share == b_share)





# Define our actors for our system using the generator point previously defined
alice_gamal = ECActor(g, ord_g, ecurve)
bob_gamal = ECActor(g, ord_g, ecurve)

# Calculate their respective public keys
a_pub = alice_gamal.get_public()
b_pub = bob_gamal.get_public()

# Display public keys
print("Alice's public:", a_pub)
print("Bob's public:", b_pub)
print()

# Generate and display a random point along the curve
to_encrypt = ecurve.random_point()
print("Encrypting: ", to_encrypt)
print()

# Have each of our actors encrypt our random point
alice_encrypt = alice_gamal.encrypt(to_encrypt, b_pub)
bob_encrypt = bob_gamal.encrypt(to_encrypt, a_pub)

# Display the encrypted values
print("Alice encrypted:", alice_encrypt)
print("Bob encrypted:", bob_encrypt)
print()

# Decrypt the other actors' encrypted values
alice_decrypt = alice_gamal.decrypt(bob_encrypt)
bob_decrypt = bob_gamal.decrypt(alice_encrypt)

# Display decrypted values
print("Alice decrypted: ", alice_decrypt)
print("Bob decrypted: ", bob_decrypt)
print()

# Assert that all the encrypted values are the same
print("Decrypted values match values to encrypt?", to_encrypt == alice_decrypt == bob_decrypt)



