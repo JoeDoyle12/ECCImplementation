{
 "cells": [
  {
   "cell_type": "markdown",
   "metadata": {},
   "source": [
    "# <center>**Elliptic Curve Cryptography**<center/>\n",
    "---"
   ]
  },
  {
   "cell_type": "markdown",
   "metadata": {},
   "source": [
    "## What is an Elliptic Curve?"
   ]
  },
  {
   "cell_type": "markdown",
   "metadata": {},
   "source": [
    "### Elliptic Curve Fundamentals\n",
    "\n",
    "An elliptic curve $E$ over a field $F$ is a collection of points $(x, y)$ where $x,y\\in F$ satisfying the following equation:\n",
    "$$y^2=x^3+ax+b$$\n",
    "and containing the \"point at infinity\" $O$.\n",
    "\n",
    "#### Identitites and Inverses\n",
    "\n",
    "The point at infinity is the additive identity. That is, for all points $P\\in F$, $P+O=P$\n",
    "\n",
    "Let us also say that $P=(x, y)$. Then we will define $-P=(x,-y)$. We then say that $P+(-P)=O$\n",
    "\n",
    "#### Addition\n",
    "\n",
    "We define addition for two distinct points $P$ and $Q$ as $P+Q$ on an elliptic curve by first calculating the secant line between $P$ and $Q$. We then follow that line until it next intersects the curve. Let us call this point $J$. We then say that $P+Q=-J$. A graphical interpretation of addition is shown below:\n",
    "\n",
    "<br/><br/>\n",
    "<img src=\"images/addition_distinct.png\" alt=\"Addition along an Elliptic Curve\">\n",
    "<br/><br/>\n",
    "\n",
    "For point doubling ($2P=P+P$) we perform the same process but now with line tangent to the elliptic curve at point $P$ instead of the secant line."
   ]
  },
  {
   "cell_type": "markdown",
   "metadata": {},
   "source": [
    "### Elliptic Curves over Finite Fields\n",
    "\n",
    "In the examples and images we looked at above, all calculations were done over the field of the real numbers, $\\mathbb{R}$. However, for our purposes we will work exclusively with elliptic curves over the field $\\mathbb{Z}/p\\mathbb{Z}$ (the integers modulo a prime $p$). This means our elliptic curve equation above will now look like this:\n",
    "$$y^2=x^3+ax+b\\mod{p}$$\n",
    "These finite fields are much easier for computers to work with, but are much less intuitive. Here is an example of an elliptic curve over a finite field:\n",
    "\n",
    "<br/><br/>\n",
    "<img src=\"images/finite_ec.png\" alt=\"Elliptic Curve over finite field\">\n",
    "<br/><br/>\n",
    "\n",
    "### **Notice how not every x-coordinate contains a point on the elliptic curve.**"
   ]
  },
  {
   "cell_type": "markdown",
   "metadata": {},
   "source": [
    "### Testing Elliptic Curves Out\n",
    "\n",
    "An elliptic curve implementation is available in the file `ec/elliptic_curve.py`. Let's test it out:"
   ]
  },
  {
   "cell_type": "code",
   "execution_count": 7,
   "metadata": {},
   "outputs": [],
   "source": [
    "from ec.elliptic_curve import EllipticCurve"
   ]
  },
  {
   "cell_type": "code",
   "execution_count": 8,
   "metadata": {},
   "outputs": [
    {
     "name": "stdout",
     "output_type": "stream",
     "text": [
      "(12, 11)\n",
      "11\n",
      "7\n",
      "(1, 2)\n"
     ]
    }
   ],
   "source": [
    "ecurve = EllipticCurve(0, 3, 23) # x^3 + 3x (mod 23)\n",
    "\n",
    "p = (12, 11)\n",
    "q = (1, 2)\n",
    "\n",
    "print(ecurve.add_points(p, ecurve.PTATINF)) # P + O\n",
    "print(ecurve.add_points(p, ecurve.add_points(q, ecurve.neg(p)))) # P + (Q - P) should give Q\n"
   ]
  },
  {
   "cell_type": "markdown",
   "metadata": {},
   "source": [
    "## Uses of an Elliptic Curve\n",
    "\n",
    "There are many uses for elliptic curves and their math in cryptography, we'll go over the two that we chose to implement here: Elliptic Curve Diffie-Helmann and an Elliptic Curve El Gamal encryption-decryption system."
   ]
  },
  {
   "cell_type": "markdown",
   "metadata": {},
   "source": [
    "### Elliptic Curve Diffie-Helmann\n",
    "\n",
    "The idea behind this is quite simple. Alice and Bob agree upon a curve $E$ and a point $P$ on that curve. Then they each choose a scalar private key which well call $a$ and $b$, respectively. Alice and Bob each compute their respective public keys $aP$ and $bP$, which are both points on the elliptic curve. Then Alice takes Bob's public key and forms the point $a(bP)$ while Bob uses Alice's public key to form the point $b(aP)$. Because the points on an elliptic curve form a group, $a(bP)=b(aP)$. This means that Alice and Bob will both end up with the same shared key without ever knowing the other person's private key.\n",
    "\n",
    "Let's look at an example using our libraries. It is important to note that the `ECDH` classes randomly select a private key, which means this code is nondeterministic."
   ]
  },
  {
   "cell_type": "code",
   "execution_count": 11,
   "metadata": {},
   "outputs": [],
   "source": [
    "from ecdh.ecdh import ECDH"
   ]
  },
  {
   "cell_type": "code",
   "execution_count": 12,
   "metadata": {},
   "outputs": [
    {
     "name": "stdout",
     "output_type": "stream",
     "text": [
      "16\n",
      "6\n",
      "22\n",
      "42\n",
      "14\n",
      "32\n",
      "14\n",
      "22\n",
      "42\n",
      "-1\n",
      "14\n",
      "Alice's public key:  (0, 7)\n",
      "Bob's public key:  (11, 0)\n",
      "0\n"
     ]
    },
    {
     "ename": "ValueError",
     "evalue": "base is not invertible for the given modulus",
     "output_type": "error",
     "traceback": [
      "\u001b[0;31m---------------------------------------------------------------------------\u001b[0m",
      "\u001b[0;31mValueError\u001b[0m                                Traceback (most recent call last)",
      "Cell \u001b[0;32mIn[12], line 10\u001b[0m\n\u001b[1;32m      7\u001b[0m \u001b[38;5;28mprint\u001b[39m(\u001b[38;5;124m\"\u001b[39m\u001b[38;5;124mAlice\u001b[39m\u001b[38;5;124m'\u001b[39m\u001b[38;5;124ms public key: \u001b[39m\u001b[38;5;124m\"\u001b[39m, a_pub)\n\u001b[1;32m      8\u001b[0m \u001b[38;5;28mprint\u001b[39m(\u001b[38;5;124m\"\u001b[39m\u001b[38;5;124mBob\u001b[39m\u001b[38;5;124m'\u001b[39m\u001b[38;5;124ms public key: \u001b[39m\u001b[38;5;124m\"\u001b[39m, b_pub)\n\u001b[0;32m---> 10\u001b[0m \u001b[38;5;28mprint\u001b[39m(\u001b[38;5;124m\"\u001b[39m\u001b[38;5;124mAlice\u001b[39m\u001b[38;5;124m'\u001b[39m\u001b[38;5;124ms shared key: \u001b[39m\u001b[38;5;124m\"\u001b[39m, alice\u001b[38;5;241m.\u001b[39mget_shared(b_pub))\n\u001b[1;32m     11\u001b[0m \u001b[38;5;28mprint\u001b[39m(\u001b[38;5;124m\"\u001b[39m\u001b[38;5;124mBob\u001b[39m\u001b[38;5;124m'\u001b[39m\u001b[38;5;124ms shared key: \u001b[39m\u001b[38;5;124m\"\u001b[39m, bob\u001b[38;5;241m.\u001b[39mget_shared(a_pub))\n",
      "File \u001b[0;32m~/Desktop/Cryptography2024/ECCImplementation/ecdh/ecdh.py:38\u001b[0m, in \u001b[0;36mECDH.get_shared\u001b[0;34m(self, public)\u001b[0m\n\u001b[1;32m     31\u001b[0m \u001b[38;5;28;01mdef\u001b[39;00m \u001b[38;5;21mget_shared\u001b[39m(\u001b[38;5;28mself\u001b[39m, public):\n\u001b[1;32m     32\u001b[0m \u001b[38;5;250m    \u001b[39m\u001b[38;5;124;03m\"\"\"\u001b[39;00m\n\u001b[1;32m     33\u001b[0m \u001b[38;5;124;03m    Return the shared key from public key\u001b[39;00m\n\u001b[1;32m     34\u001b[0m \n\u001b[1;32m     35\u001b[0m \u001b[38;5;124;03m    public: Point on elliptic curve self.curve corresponding to (others shared)*P\u001b[39;00m\n\u001b[1;32m     36\u001b[0m \u001b[38;5;124;03m    \"\"\"\u001b[39;00m\n\u001b[0;32m---> 38\u001b[0m     \u001b[38;5;28;01mreturn\u001b[39;00m \u001b[38;5;28mself\u001b[39m\u001b[38;5;241m.\u001b[39mcurve\u001b[38;5;241m.\u001b[39mscalar_product(\u001b[38;5;28mself\u001b[39m\u001b[38;5;241m.\u001b[39mpriv, public)\n",
      "File \u001b[0;32m~/Desktop/Cryptography2024/ECCImplementation/ec/elliptic_curve.py:69\u001b[0m, in \u001b[0;36mEllipticCurve.scalar_product\u001b[0;34m(self, t, p)\u001b[0m\n\u001b[1;32m     67\u001b[0m     \u001b[38;5;28;01mif\u001b[39;00m b \u001b[38;5;241m==\u001b[39m \u001b[38;5;124m'\u001b[39m\u001b[38;5;124m1\u001b[39m\u001b[38;5;124m'\u001b[39m:\n\u001b[1;32m     68\u001b[0m         result \u001b[38;5;241m=\u001b[39m \u001b[38;5;28mself\u001b[39m\u001b[38;5;241m.\u001b[39madd_points(result, p)\n\u001b[0;32m---> 69\u001b[0m     p \u001b[38;5;241m=\u001b[39m \u001b[38;5;28mself\u001b[39m\u001b[38;5;241m.\u001b[39madd_points(p, p)\n\u001b[1;32m     71\u001b[0m \u001b[38;5;28;01mreturn\u001b[39;00m result\n",
      "File \u001b[0;32m~/Desktop/Cryptography2024/ECCImplementation/ec/elliptic_curve.py:43\u001b[0m, in \u001b[0;36mEllipticCurve.add_points\u001b[0;34m(self, p1, p2)\u001b[0m\n\u001b[1;32m     41\u001b[0m \u001b[38;5;28;01melif\u001b[39;00m p1 \u001b[38;5;241m==\u001b[39m p2:\n\u001b[1;32m     42\u001b[0m     \u001b[38;5;28mprint\u001b[39m(\u001b[38;5;241m2\u001b[39m \u001b[38;5;241m*\u001b[39m p1[\u001b[38;5;241m1\u001b[39m])\n\u001b[0;32m---> 43\u001b[0m     slope \u001b[38;5;241m=\u001b[39m (((\u001b[38;5;241m3\u001b[39m \u001b[38;5;241m*\u001b[39m p1[\u001b[38;5;241m0\u001b[39m]\u001b[38;5;241m*\u001b[39m\u001b[38;5;241m*\u001b[39m\u001b[38;5;241m2\u001b[39m \u001b[38;5;241m+\u001b[39m \u001b[38;5;28mself\u001b[39m\u001b[38;5;241m.\u001b[39ma) \u001b[38;5;241m%\u001b[39m \u001b[38;5;28mself\u001b[39m\u001b[38;5;241m.\u001b[39mp) \u001b[38;5;241m*\u001b[39m \u001b[38;5;28mpow\u001b[39m(\u001b[38;5;241m2\u001b[39m \u001b[38;5;241m*\u001b[39m p1[\u001b[38;5;241m1\u001b[39m], \u001b[38;5;241m-\u001b[39m\u001b[38;5;241m1\u001b[39m, \u001b[38;5;28mself\u001b[39m\u001b[38;5;241m.\u001b[39mp)) \u001b[38;5;241m%\u001b[39m \u001b[38;5;28mself\u001b[39m\u001b[38;5;241m.\u001b[39mp\n\u001b[1;32m     44\u001b[0m \u001b[38;5;28;01melif\u001b[39;00m p1[\u001b[38;5;241m0\u001b[39m] \u001b[38;5;241m==\u001b[39m p2[\u001b[38;5;241m0\u001b[39m]:\n\u001b[1;32m     45\u001b[0m     \u001b[38;5;28;01mreturn\u001b[39;00m \u001b[38;5;28mself\u001b[39m\u001b[38;5;241m.\u001b[39mPTATINF\n",
      "\u001b[0;31mValueError\u001b[0m: base is not invertible for the given modulus"
     ]
    }
   ],
   "source": [
    "alice = ECDH(p, ecurve)\n",
    "bob = ECDH(p, ecurve)\n",
    "\n",
    "a_pub = alice.get_public()\n",
    "b_pub = bob.get_public()\n",
    "\n",
    "print(\"Alice's public key: \", a_pub)\n",
    "print(\"Bob's public key: \", b_pub)\n",
    "\n",
    "print(\"Alice's shared key: \", alice.get_shared(b_pub))\n",
    "print(\"Bob's shared key: \", bob.get_shared(a_pub))"
   ]
  },
  {
   "cell_type": "code",
   "execution_count": null,
   "metadata": {},
   "outputs": [],
   "source": []
  },
  {
   "cell_type": "code",
   "execution_count": null,
   "metadata": {},
   "outputs": [],
   "source": []
  }
 ],
 "metadata": {
  "interpreter": {
   "hash": "aee8b7b246df8f9039afb4144a1f6fd8d2ca17a180786b69acc140d282b71a49"
  },
  "kernelspec": {
   "display_name": "Python 3 (ipykernel)",
   "language": "python",
   "name": "python3"
  },
  "language_info": {
   "codemirror_mode": {
    "name": "ipython",
    "version": 3
   },
   "file_extension": ".py",
   "mimetype": "text/x-python",
   "name": "python",
   "nbconvert_exporter": "python",
   "pygments_lexer": "ipython3",
   "version": "3.11.7"
  }
 },
 "nbformat": 4,
 "nbformat_minor": 4
}
