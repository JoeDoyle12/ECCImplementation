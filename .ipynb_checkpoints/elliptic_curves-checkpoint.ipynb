{
 "cells": [
  {
   "cell_type": "markdown",
   "metadata": {},
   "source": [
    "# <center>**Elliptic Curve Cryptography**<center/>\n",
    "---"
   ]
  },
  {
   "cell_type": "markdown",
   "metadata": {},
   "source": [
    "## What is an Elliptic Curve?"
   ]
  },
  {
   "cell_type": "markdown",
   "metadata": {},
   "source": [
    "### Elliptic Curve Fundamentals\n",
    "\n",
    "An elliptic curve $E$ over a field $F$ is a collection of points $(x, y)$ where $x,y\\in F$ satisfying the following equation:\n",
    "$$y^2=x^3+ax+b$$\n",
    "and containing the \"point at infinity\" $O$.\n",
    "\n",
    "#### Identitites and Inverses\n",
    "\n",
    "The point at infinity is the additive identity. That is, for all points $P\\in F$, $P+O=P$\n",
    "\n",
    "Let us also say that $P=(x, y)$. Then we will define $-P=(x,-y)$. We then say that $P+(-P)=O$\n",
    "\n",
    "#### Addition\n",
    "\n",
    "We define addition for two distinct points $P$ and $Q$ as $P+Q$ on an elliptic curve by first calculating the secant line between $P$ and $Q$. We then follow that line until it next intersects the curve. Let us call this point $J$. We then say that $P+Q=-J$. A graphical interpretation of addition is shown below:\n",
    "\n",
    "<br/><br/>\n",
    "<img src=\"images/addition_distinct.png\" alt=\"Addition along an Elliptic Curve\">\n",
    "<br/><br/>\n",
    "\n",
    "For point doubling ($2P=P+P$) we perform the same process but now with line tangent to the elliptic curve at point $P$ instead of the secant line."
   ]
  },
  {
   "cell_type": "markdown",
   "metadata": {},
   "source": [
    "### Elliptic Curves over Finite Fields\n",
    "\n",
    "In the examples and images we looked at above, all calculations were done over the field of the real numbers, $\\mathbb{R}$. However, for our purposes we will work exclusively with elliptic curves over the field $\\mathbb{Z}/p\\mathbb{Z}$ (the integers modulo a prime $p$). This means our elliptic curve equation above will now look like this:\n",
    "$$y^2=x^3+ax+b\\mod{p}$$\n",
    "These finite fields are much easier for computers to work with, but are much less intuitive. Here is an example of an elliptic curve over a finite field:\n",
    "\n",
    "<br/><br/>\n",
    "<img src=\"images/finite_ec.png\" alt=\"Elliptic Curve over finite field\">\n",
    "<br/><br/>\n",
    "\n",
    "### **Notice how not every x-coordinate contains a point on the elliptic curve.**"
   ]
  },
  {
   "cell_type": "markdown",
   "metadata": {},
   "source": [
    "### Testing Elliptic Curves Out\n",
    "\n",
    "An elliptic curve implementation is available in the file `ec/elliptic_curve.py`. Let's test it out:"
   ]
  },
  {
   "cell_type": "code",
   "execution_count": 7,
   "metadata": {},
   "outputs": [],
   "source": [
    "from ec.elliptic_curve import EllipticCurve"
   ]
  },
  {
   "cell_type": "code",
   "execution_count": 8,
   "metadata": {},
   "outputs": [
    {
     "name": "stdout",
     "output_type": "stream",
     "text": [
      "P + O = (12, 11)\n",
      "P + (Q - P) = (1, 2)\n"
     ]
    }
   ],
   "source": [
    "# Define our Elliptic Curve\n",
    "ecurve = EllipticCurve(0, 3, 23) # x^3 + 3x (mod 23)\n",
    "\n",
    "# Define two of our points\n",
    "p = (12, 11)\n",
    "q = (1, 2)\n",
    "\n",
    "# Print results from operations on Elliptic Curves with our points\n",
    "print(\"P + O =\", ecurve.add_points(p, ecurve.PTATINF)) # P + O\n",
    "print(\"P + (Q - P) =\", ecurve.add_points(p, ecurve.add_points(q, ecurve.neg(p)))) # P + (Q - P) should give Q\n"
   ]
  },
  {
   "cell_type": "markdown",
   "metadata": {},
   "source": [
    "## Uses of an Elliptic Curve\n",
    "\n",
    "There are many uses for elliptic curves and their math in cryptography, we'll go over the two that we chose to implement here: Elliptic Curve Diffie-Helmann and an Elliptic Curve El Gamal encryption-decryption system."
   ]
  },
  {
   "cell_type": "markdown",
   "metadata": {},
   "source": [
    "### Elliptic Curve Diffie-Helmann\n",
    "\n",
    "The idea behind this is quite simple. Alice and Bob agree upon a curve $E$ and a point $P$ on that curve. Then they each choose a scalar private key which well call $a$ and $b$, respectively. Alice and Bob each compute their respective public keys $aP$ and $bP$, which are both points on the elliptic curve. Then Alice takes Bob's public key and forms the point $a(bP)$ while Bob uses Alice's public key to form the point $b(aP)$. Because the points on an elliptic curve form a group, $a(bP)=b(aP)$. This means that Alice and Bob will both end up with the same shared key without ever knowing the other person's private key.\n",
    "\n",
    "Let's look at an example using our libraries. It is important to note that the `ECDH` classes randomly select a private key, which means this code is nondeterministic."
   ]
  },
  {
   "cell_type": "code",
   "execution_count": 11,
   "metadata": {},
   "outputs": [],
   "source": [
    "from ecdh.ecdh import ECDH"
   ]
  },
  {
   "cell_type": "code",
   "execution_count": 12,
   "metadata": {},
   "outputs": [
    {
     "name": "stdout",
     "output_type": "stream",
     "text": [
      "Alice's public key:  (0, 0)\n",
      "Bob's public key:  (2, 7)\n",
      "Alice's shared key:  (0, 0)\n",
      "Bob's shared key:  (0, 0)\n"
     ]
    }
   ],
   "source": [
    "new_ecurve = EllipticCurve(0, 3, 19) # y^2 = x^3 + 3 (mod 19)\n",
    "p = (1, 2)\n",
    "\n",
    "# for i in range(19):\n",
    "#     print(i, new_ecurve.scalar_product(i, p))\n",
    "\n",
    "alice = ECDH(p, new_ecurve)\n",
    "bob = ECDH(p, new_ecurve)\n",
    "\n",
    "a_pub = alice.get_public()\n",
    "b_pub = bob.get_public()\n",
    "\n",
    "print(\"Alice's public key: \", a_pub)\n",
    "print(\"Bob's public key: \", b_pub)\n",
    "\n",
    "print(\"Alice's shared key: \", alice.get_shared(b_pub))\n",
    "print(\"Bob's shared key: \", bob.get_shared(a_pub))"
   ]
  },
  {
   "cell_type": "markdown",
   "metadata": {},
   "source": [
    "### Elliptic Curve El-Gamal Cryptosystem\n",
    "\n",
    "We start with an agreed upon elliptic curve $E$ and an agreed upon point $P$ with order $n$. Alice wishes to encrypt a point $T$ and send it to Bob who has public key $B$. Alice chooses an integer $a\\in[0,n-1]$. Alice will then send a pair of points $(A, Y)$ where $A=a\\cdot P$ (Alice's public key) and $Y=T+a\\cdot B$ (point to encrypt + shared key).\n",
    "\n",
    "Then Bob will receive a pair of points $(A, Y)$. He has also already chosen an integer $b\\in[0, n-1]$ when he calculated $B=b\\cdot P$ (his public key). He will then calculate $T=Y-b\\cdot A$ (encrypted point - shared key), undoing the encryption operation Alice performed."
   ]
  },
  {
   "cell_type": "code",
   "execution_count": 14,
   "metadata": {},
   "outputs": [],
   "source": [
    "from ec_elgamal.ec_actor import ECActor"
   ]
  },
  {
   "cell_type": "code",
   "execution_count": 15,
   "metadata": {},
   "outputs": [
    {
     "name": "stdout",
     "output_type": "stream",
     "text": [
      "Alice's encrypted pair: ((1, 17), (0, 0))\n",
      "Bob's encrypted pair: ((11, 17), (0, 0))\n",
      "Alice's decrypted value: (11, 17)\n",
      "Bob's decrypted value: (11, 17)\n"
     ]
    }
   ],
   "source": [
    "alice = ECActor(p, 13, new_ecurve) # 13p = O (point at infinity)\n",
    "bob = ECActor(p, 13, new_ecurve)\n",
    "\n",
    "# Calculate public keys for Alice and Bob\n",
    "a_pub = alice.get_public()\n",
    "b_pub = bob.get_public()\n",
    "\n",
    "# Define the point we want to encrypt\n",
    "to_encrypt = (11, 17)\n",
    "\n",
    "# Have Alice encrypt the point\n",
    "alice_encrypted = alice.encrypt(to_encrypt, b_pub)\n",
    "\n",
    "# Have Bob encrypt the point\n",
    "bob_encrypted = bob.encrypt(to_encrypt, a_pub)\n",
    "\n",
    "# Print encrypted values\n",
    "print(\"Alice's encrypted pair:\", alice_encrypted)\n",
    "print(\"Bob's encrypted pair:\", bob_encrypted)\n",
    "\n",
    "# Have Alice decrypt Bob's Encrypted values\n",
    "alice_decrypted = alice.decrypt(bob_encrypted)\n",
    "\n",
    "# Have Bob decrypt Alice's Encrypted values\n",
    "bob_decrypted = bob.decrypt(alice_encrypted)\n",
    "\n",
    "# Print decrypted values\n",
    "print(\"Alice's decrypted value:\", alice_decrypted)\n",
    "print(\"Bob's decrypted value:\", bob_decrypted)"
   ]
  },
  {
   "cell_type": "markdown",
   "metadata": {},
   "source": [
    "## Implementing a Real Elliptic Curve\n",
    "\n",
    "Elliptic Curves and Elliptic Curve Cryptography is used widely in many situations requiring assymetric key exchanges, due to its advantages over RSA. These advantages include but are not limited to:\n",
    "\n",
    "- Less memory usage (smaller keys + key compression)\n",
    "- Faster\n",
    "- More secure\n",
    "\n",
    "One common usage of elliptic curves is in blockchain, where lots of encryption/decryption operations need to be made extremely quickly. Bitcoin, for example, uses a specific elliptic curve known as `Secp256k1`, defined as $y^2=x^3+7\\mod{p}$ where $p$ is an extremely large prime. Below, we create this curve using our defined classes."
   ]
  },
  {
   "cell_type": "code",
   "execution_count": 17,
   "metadata": {},
   "outputs": [],
   "source": [
    "# Define Secp256k1, the elliptic curve that Bitcoin uses. Parameters found here: https://en.bitcoin.it/wiki/Secp256k1\n",
    "\n",
    "p = 0xFFFFFFFF_FFFFFFFF_FFFFFFFF_FFFFFFFF_FFFFFFFF_FFFFFFFF_FFFFFFFE_FFFFFC2F\n",
    "\n",
    "ecurve = EllipticCurve(0, 7, p) # y^2 = x^2 + 7 (mod p)"
   ]
  },
  {
   "cell_type": "markdown",
   "metadata": {},
   "source": [
    "Implementations of Secp256k1 also usually use an agreed-upon generator point `g`, which is defined below. This point also has a predefined order `ord_g`"
   ]
  },
  {
   "cell_type": "code",
   "execution_count": 19,
   "metadata": {},
   "outputs": [],
   "source": [
    "# Define a generator point g and its order\n",
    "\n",
    "g = (55066263022277343669578718895168534326250603453777594175500187360389116729240,\n",
    "     32670510020758816978083085130507043184471273380659243275938904335757337482424)\n",
    "\n",
    "ord_g = 0xFFFFFFFFFFFFFFFFFFFFFFFFFFFFFFFEBAAEDCE6AF48A03BBFD25E8CD0364141"
   ]
  },
  {
   "cell_type": "markdown",
   "metadata": {},
   "source": [
    "Now we will implement our Diffie-Hellman system using this curve and this point:"
   ]
  },
  {
   "cell_type": "code",
   "execution_count": 37,
   "metadata": {},
   "outputs": [
    {
     "name": "stdout",
     "output_type": "stream",
     "text": [
      "Alice public: (13070943797601888935180029660785623989587668759438828966193335861568978001100, 103698213196095570860588193975803109523779010114271451511650815967763016335350)\n",
      "Bob public: (40827429754020400277641792070834887950857537740917686941843149402637679790485, 56057296843397433440323752630575952606553615946307492115777841665982348839894)\n",
      "\n",
      "\n",
      "Alice shared: (48211267323708301775355951149360211370071505300026048838605265909626530451860, 2995626562847617694677804900330792343079397876662666010528698592822448048572)\n",
      "Bob shared: (48211267323708301775355951149360211370071505300026048838605265909626530451860, 2995626562847617694677804900330792343079397876662666010528698592822448048572)\n",
      "\n",
      "Are Alice and Bob's shared keys equal: True\n"
     ]
    }
   ],
   "source": [
    "# Define actors alice and bob\n",
    "alice = ECDH(g, ecurve)\n",
    "bob = ECDH(g, ecurve)\n",
    "\n",
    "# Calculate respective public keys for alice and bob\n",
    "a_pub = alice.get_public()\n",
    "b_pub = bob.get_public()\n",
    "\n",
    "# Display their public keys\n",
    "print(\"Alice public:\", a_pub)\n",
    "print(\"Bob public:\", b_pub)\n",
    "print()\n",
    "\n",
    "# Calculate respective shared keys\n",
    "a_share = alice.get_shared(b_pub)\n",
    "b_share = bob.get_shared(a_pub)\n",
    "print()\n",
    "\n",
    "# Display their shared keys\n",
    "print(\"Alice shared:\", alice.get_shared(b_pub))\n",
    "print(\"Bob shared:\", bob.get_shared(a_pub))\n",
    "print()\n",
    "\n",
    "# Are their keys equal?\n",
    "print(\"Are Alice and Bob's shared keys equal:\", a_share == b_share)"
   ]
  },
  {
   "cell_type": "markdown",
   "metadata": {},
   "source": [
    "Now we will implement our El Gamal system on this curve, using the `EllipticCurve.random_point(self)` method to encrypt random points along our curve:"
   ]
  },
  {
   "cell_type": "code",
   "execution_count": 35,
   "metadata": {},
   "outputs": [
    {
     "name": "stdout",
     "output_type": "stream",
     "text": [
      "Alice's public: (51561966352142705708272210901373919291584252647338363608285546303667474680344, 23511015351317386827141164473818490604928871527344169028869271178219834331127)\n",
      "Bob's public: (112829080582655768297170033809668095921189158631638553439117119254019441557524, 88609633792240659368318852647002060616221516476581875348400556556638598968560)\n",
      "\n",
      "Encrypting:  (74307979097536844793952285383890265841890098611954712669327047519382507046136, 69536337843899626336336776461237098341930503583734513770833513048016224557040)\n",
      "\n",
      "Alice encrypted: ((51561966352142705708272210901373919291584252647338363608285546303667474680344, 23511015351317386827141164473818490604928871527344169028869271178219834331127), (1349492574593667667220636259109735049712205758576162522580341531603442300968, 105344402465303331915164095720118567412300902979566742563487415315603666629055))\n",
      "Bob encrypted: ((112829080582655768297170033809668095921189158631638553439117119254019441557524, 88609633792240659368318852647002060616221516476581875348400556556638598968560), (1349492574593667667220636259109735049712205758576162522580341531603442300968, 105344402465303331915164095720118567412300902979566742563487415315603666629055))\n",
      "\n",
      "Alice decrypted:  (74307979097536844793952285383890265841890098611954712669327047519382507046136, 69536337843899626336336776461237098341930503583734513770833513048016224557040)\n",
      "Bob decrypted:  (74307979097536844793952285383890265841890098611954712669327047519382507046136, 69536337843899626336336776461237098341930503583734513770833513048016224557040)\n",
      "\n",
      "Decrypted values match values to encrypt? True\n"
     ]
    }
   ],
   "source": [
    "# Define our actors for our system using the generator point previously defined\n",
    "alice_gamal = ECActor(g, ord_g, ecurve)\n",
    "bob_gamal = ECActor(g, ord_g, ecurve)\n",
    "\n",
    "# Calculate their respective public keys\n",
    "a_pub = alice_gamal.get_public()\n",
    "b_pub = bob_gamal.get_public()\n",
    "\n",
    "# Display public keys\n",
    "print(\"Alice's public:\", a_pub)\n",
    "print(\"Bob's public:\", b_pub)\n",
    "print()\n",
    "\n",
    "# Generate and display a random point along the curve\n",
    "to_encrypt = ecurve.random_point()\n",
    "print(\"Encrypting: \", to_encrypt)\n",
    "print()\n",
    "\n",
    "# Have each of our actors encrypt our random point\n",
    "alice_encrypt = alice_gamal.encrypt(to_encrypt, b_pub)\n",
    "bob_encrypt = bob_gamal.encrypt(to_encrypt, a_pub)\n",
    "\n",
    "# Display the encrypted values\n",
    "print(\"Alice encrypted:\", alice_encrypt)\n",
    "print(\"Bob encrypted:\", bob_encrypt)\n",
    "print()\n",
    "\n",
    "# Decrypt the other actors' encrypted values\n",
    "alice_decrypt = alice_gamal.decrypt(bob_encrypt)\n",
    "bob_decrypt = bob_gamal.decrypt(alice_encrypt)\n",
    "\n",
    "# Display decrypted values\n",
    "print(\"Alice decrypted: \", alice_decrypt)\n",
    "print(\"Bob decrypted: \", bob_decrypt)\n",
    "print()\n",
    "\n",
    "# Assert that all the encrypted values are the same\n",
    "print(\"Decrypted values match values to encrypt?\", to_encrypt == alice_decrypt == bob_decrypt)"
   ]
  },
  {
   "cell_type": "code",
   "execution_count": null,
   "metadata": {},
   "outputs": [],
   "source": []
  }
 ],
 "metadata": {
  "interpreter": {
   "hash": "aee8b7b246df8f9039afb4144a1f6fd8d2ca17a180786b69acc140d282b71a49"
  },
  "kernelspec": {
   "display_name": "Python 3 (ipykernel)",
   "language": "python",
   "name": "python3"
  },
  "language_info": {
   "codemirror_mode": {
    "name": "ipython",
    "version": 3
   },
   "file_extension": ".py",
   "mimetype": "text/x-python",
   "name": "python",
   "nbconvert_exporter": "python",
   "pygments_lexer": "ipython3",
   "version": "3.11.7"
  }
 },
 "nbformat": 4,
 "nbformat_minor": 4
}
