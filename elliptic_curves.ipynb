{
 "cells": [
  {
   "cell_type": "markdown",
   "metadata": {},
   "source": [
    "# <center>**Elliptic Curve Cryptography**<center/>\n",
    "## <center>**Joe Doyle**<center/>\n",
    "---"
   ]
  },
  {
   "cell_type": "markdown",
   "metadata": {},
   "source": [
    "## What is an Elliptic Curve?"
   ]
  },
  {
   "cell_type": "markdown",
   "metadata": {},
   "source": [
    "### Elliptic Curve Fundamentals\n",
    "\n",
    "An elliptic curve $E$ over a field $F$ is a collection of points $(x, y)$ where $x,y\\in F$ satisfying the following equation:\n",
    "$$y^2=x^3+ax+b$$\n",
    "and containing the \"point at infinity\" $O$.\n",
    "\n",
    "#### Identitites and Inverses\n",
    "\n",
    "The point at infinity is the additive identity. That is, for all points $P\\in F$, $P+O=P$\n",
    "\n",
    "Let us also say that $P=(x, y)$. Then we will define $-P=(x,-y)$. We then say that $P+(-P)=O$\n",
    "\n",
    "#### Addition\n",
    "\n",
    "We define addition for two distinct points $P$ and $Q$ as $P+Q$ on an elliptic curve by first calculating the secant line between $P$ and $Q$. We then follow that line until it next intersects the curve. Let us call this point $J$. We then say that $P+Q=-J$. A graphical interpretation of addition is shown below:\n",
    "\n",
    "<br/><br/>\n",
    "<img src=\"images/addition_distinct.png\" alt=\"Addition along an Elliptic Curve\">\n",
    "<br/><br/>\n",
    "\n",
    "For point doubling ($2P=P+P$) we perform the same process but now with line tangent to the elliptic curve at point $P$ instead of the secant line."
   ]
  },
  {
   "cell_type": "markdown",
   "metadata": {},
   "source": [
    "### Elliptic Curves over Finite Fields\n",
    "\n",
    "In the examples and images we looked at above, all calculations were done over the field of the real numbers, $\\mathbb{R}$. However, for our purposes we will work exclusively with elliptic curves over the field $\\mathbb{Z}/p\\mathbb{Z}$ (the integers modulo a prime $p$). This means our elliptic curve equation above will now look like this:\n",
    "$$y^2=x^3+ax+b\\mod{p}$$\n",
    "These finite fields are much easier for computers to work with, but are much less intuitive. Here is an example of an elliptic curve over a finite field:\n",
    "\n",
    "<br/><br/>\n",
    "<img src=\"images/finite_ec.png\" alt=\"Elliptic Curve over finite field\">\n",
    "<br/><br/>\n",
    "\n",
    "**Notice how not every x-coordinate contains a point on the elliptic curve.**"
   ]
  },
  {
   "cell_type": "markdown",
   "metadata": {},
   "source": [
    "### Testing An Elliptic Curve\n",
    "\n",
    "An elliptic curve implementation is available in the file `ec/elliptic_curve.py`. Let's test it out:"
   ]
  },
  {
   "cell_type": "code",
   "execution_count": 2,
   "metadata": {},
   "outputs": [
    {
     "ename": "ModuleNotFoundError",
     "evalue": "No module named 'ecc'",
     "output_type": "error",
     "traceback": [
      "\u001b[0;31m---------------------------------------------------------------------------\u001b[0m",
      "\u001b[0;31mModuleNotFoundError\u001b[0m                       Traceback (most recent call last)",
      "Cell \u001b[0;32mIn[2], line 1\u001b[0m\n\u001b[0;32m----> 1\u001b[0m \u001b[38;5;28;01mfrom\u001b[39;00m \u001b[38;5;21;01mecc\u001b[39;00m\u001b[38;5;21;01m.\u001b[39;00m\u001b[38;5;21;01mec\u001b[39;00m\u001b[38;5;21;01m.\u001b[39;00m\u001b[38;5;21;01melliptic_curve\u001b[39;00m \u001b[38;5;28;01mimport\u001b[39;00m EllipticCurve\n",
      "\u001b[0;31mModuleNotFoundError\u001b[0m: No module named 'ecc'"
     ]
    }
   ],
   "source": [
    "from ecc.ec.elliptic_curve import EllipticCurve"
   ]
  },
  {
   "cell_type": "code",
   "execution_count": 7,
   "metadata": {},
   "outputs": [
    {
     "name": "stdout",
     "output_type": "stream",
     "text": [
      "P + O = (12, 11)\n",
      "P + (Q - P) = (1, 2)\n"
     ]
    }
   ],
   "source": [
    "# Define our Elliptic Curve\n",
    "ecurve = EllipticCurve(0, 3, 23) # x^3 + 3x (mod 23)\n",
    "\n",
    "# Define two of our points\n",
    "p = (12, 11)\n",
    "q = (1, 2)\n",
    "\n",
    "# Print results from operations on Elliptic Curves with our points\n",
    "print(\"P + O =\", ecurve.add_points(p, ecurve.PTATINF)) # P + O\n",
    "print(\"P + (Q - P) =\", ecurve.add_points(p, ecurve.add_points(q, ecurve.neg(p)))) # P + (Q - P) should give Q\n"
   ]
  },
  {
   "cell_type": "markdown",
   "metadata": {},
   "source": [
    "---\n",
    "## Uses of Elliptic Curves\n",
    "\n",
    "There are many uses for elliptic curves and their math in cryptography, we'll go over the two that we chose to implement here: Elliptic Curve Diffie-Helmann and an Elliptic Curve El Gamal encryption-decryption system."
   ]
  },
  {
   "cell_type": "markdown",
   "metadata": {},
   "source": [
    "### Elliptic Curve Discrete Log Problem\n",
    "\n",
    "The reason elliptic curves are useful is because of the difficulty of solving an elliptic curve \"discrete log\" problem. This discrete log term is not unique to elliptic curves, it exists in many forms. One of the most common is the RSA discrete log problem.\n",
    "\n",
    "In RSA, public keys look like $g^b\\mod{p}$. It is very hard to find the $b$ corresponding to a known public key, $g$, and $p$. This problem is known as the discrete log problem. It is the reason RSA is so hard to to crack.\n",
    "\n",
    "In ECC, public keys look like $b\\cdot P$. It turns out that it is also very hard to determine the $b$ corresponding to such a public key. This is known as the **Elliptic Curve Discrete Log Problem**, and is what makes elliptic curves cryptographically secure."
   ]
  },
  {
   "cell_type": "markdown",
   "metadata": {},
   "source": [
    "### Elliptic Curve Diffie-Helmann\n",
    "\n",
    "The idea behind this is quite simple. Alice and Bob agree upon a curve $E$ and a point $P$ on that curve. Then they each choose a scalar private key which well call $a$ and $b$, respectively. Alice and Bob each compute their respective public keys $aP$ and $bP$, which are both points on the elliptic curve. Then Alice takes Bob's public key and forms the point $a(bP)$ while Bob uses Alice's public key to form the point $b(aP)$. Because the points on an elliptic curve form a group, $a(bP)=b(aP)$. This means that Alice and Bob will both end up with the same shared key without ever knowing the other person's private key.\n",
    "\n",
    "Let's look at an example using our libraries. It is important to note that the `ECDH` classes randomly select a private key, which means this code is nondeterministic."
   ]
  },
  {
   "cell_type": "code",
   "execution_count": 11,
   "metadata": {},
   "outputs": [],
   "source": [
    "from ecc.ecdh import ECDH"
   ]
  },
  {
   "cell_type": "code",
   "execution_count": 12,
   "metadata": {},
   "outputs": [
    {
     "name": "stdout",
     "output_type": "stream",
     "text": [
      "Alice's public key:  (2, 12)\n",
      "Bob's public key:  (14, 7)\n",
      "Alice's shared key:  (1, 2)\n",
      "Bob's shared key:  (1, 2)\n"
     ]
    }
   ],
   "source": [
    "new_ecurve = EllipticCurve(0, 3, 19) # y^2 = x^3 + 3 (mod 19)\n",
    "p = (1, 2)\n",
    "\n",
    "# for i in range(19):\n",
    "#     print(i, new_ecurve.scalar_product(i, p))\n",
    "\n",
    "alice = ECDH(p, new_ecurve)\n",
    "bob = ECDH(p, new_ecurve)\n",
    "\n",
    "a_pub = alice.get_public()\n",
    "b_pub = bob.get_public()\n",
    "\n",
    "print(\"Alice's public key: \", a_pub)\n",
    "print(\"Bob's public key: \", b_pub)\n",
    "\n",
    "print(\"Alice's shared key: \", alice.get_shared(b_pub))\n",
    "print(\"Bob's shared key: \", bob.get_shared(a_pub))"
   ]
  },
  {
   "cell_type": "markdown",
   "metadata": {},
   "source": [
    "### Elliptic Curve El-Gamal Cryptosystem\n",
    "\n",
    "We start with an agreed upon elliptic curve $E$ and an agreed upon point $P$ with order $n$. Alice wishes to encrypt a point $T$ and send it to Bob who has public key $B$. Alice chooses an integer $a\\in[0,n-1]$. Alice will then send a pair of points $(A, Y)$ where $A=a\\cdot P$ (Alice's public key) and $Y=T+a\\cdot B$ (point to encrypt + shared key).\n",
    "\n",
    "Then Bob will receive a pair of points $(A, Y)$. He has also already chosen an integer $b\\in[0, n-1]$ when he calculated $B=b\\cdot P$ (his public key). He will then calculate $T=Y-b\\cdot A$ (encrypted point - shared key), undoing the encryption operation Alice performed."
   ]
  },
  {
   "cell_type": "code",
   "execution_count": 14,
   "metadata": {},
   "outputs": [],
   "source": [
    "from ecc.ec_elgamal import ECActor"
   ]
  },
  {
   "cell_type": "code",
   "execution_count": 15,
   "metadata": {},
   "outputs": [
    {
     "name": "stdout",
     "output_type": "stream",
     "text": [
      "Alice's encrypted pair: ((14, 12), (11, 17))\n",
      "Bob's encrypted pair: ((0, 0), (11, 17))\n",
      "Alice's decrypted value: (11, 17)\n",
      "Bob's decrypted value: (11, 17)\n"
     ]
    }
   ],
   "source": [
    "alice = ECActor(p, 13, new_ecurve) # 13p = O (point at infinity)\n",
    "bob = ECActor(p, 13, new_ecurve)\n",
    "\n",
    "# Calculate public keys for Alice and Bob\n",
    "a_pub = alice.get_public()\n",
    "b_pub = bob.get_public()\n",
    "\n",
    "# Define the point we want to encrypt\n",
    "to_encrypt = (11, 17)\n",
    "\n",
    "# Have Alice encrypt the point\n",
    "alice_encrypted = alice.encrypt(to_encrypt, b_pub)\n",
    "\n",
    "# Have Bob encrypt the point\n",
    "bob_encrypted = bob.encrypt(to_encrypt, a_pub)\n",
    "\n",
    "# Print encrypted values\n",
    "print(\"Alice's encrypted pair:\", alice_encrypted)\n",
    "print(\"Bob's encrypted pair:\", bob_encrypted)\n",
    "\n",
    "# Have Alice decrypt Bob's Encrypted values\n",
    "alice_decrypted = alice.decrypt(bob_encrypted)\n",
    "\n",
    "# Have Bob decrypt Alice's Encrypted values\n",
    "bob_decrypted = bob.decrypt(alice_encrypted)\n",
    "\n",
    "# Print decrypted values\n",
    "print(\"Alice's decrypted value:\", alice_decrypted)\n",
    "print(\"Bob's decrypted value:\", bob_decrypted)"
   ]
  },
  {
   "cell_type": "markdown",
   "metadata": {},
   "source": [
    "---\n",
    "## Taking an Object Oriented Approach\n",
    "\n",
    "I took care to consolidate the elements of my cryptosystem into modular classes that each inhabit their own files. The UML Diagram that represents the classes making up this project is found below:\n",
    "\n"
   ]
  },
  {
   "cell_type": "markdown",
   "metadata": {},
   "source": [
    "<img src=\"images/uml_diagram.png\" alt=\"HomeRSA vs DES Time\">"
   ]
  },
  {
   "cell_type": "markdown",
   "metadata": {},
   "source": [
    "---\n",
    "## Testing a Practical Elliptic Curve\n",
    "\n",
    "Elliptic Curves and Elliptic Curve Cryptography is used widely in many situations requiring assymetric key exchanges, due to its advantages over RSA. These advantages include but are not limited to:\n",
    "\n",
    "- Less memory usage (smaller keys + key compression)\n",
    "- Faster\n",
    "- More secure\n",
    "\n",
    "One common usage of elliptic curves is in blockchain, where lots of asymmetric encryption/decryption operations need to be made extremely quickly. Bitcoin, for example, uses a specific elliptic curve known as `Secp256k1`, defined as $y^2=x^3+7\\mod{p}$ where $p$ is an extremely large prime. Below, we create this curve using our defined classes."
   ]
  },
  {
   "cell_type": "code",
   "execution_count": 19,
   "metadata": {},
   "outputs": [],
   "source": [
    "# Define Secp256k1, the elliptic curve that Bitcoin uses. Parameters found here: https://en.bitcoin.it/wiki/Secp256k1\n",
    "\n",
    "p = 0xFFFFFFFF_FFFFFFFF_FFFFFFFF_FFFFFFFF_FFFFFFFF_FFFFFFFF_FFFFFFFE_FFFFFC2F\n",
    "\n",
    "ecurve = EllipticCurve(0, 7, p) # y^2 = x^2 + 7 (mod p)"
   ]
  },
  {
   "cell_type": "markdown",
   "metadata": {},
   "source": [
    "Implementations of Secp256k1 also usually use an agreed-upon generator point `g`, which is defined below. This point also has a predefined order `ord_g`"
   ]
  },
  {
   "cell_type": "code",
   "execution_count": 21,
   "metadata": {},
   "outputs": [],
   "source": [
    "# Define a generator point g and its order\n",
    "\n",
    "g = (55066263022277343669578718895168534326250603453777594175500187360389116729240,\n",
    "     32670510020758816978083085130507043184471273380659243275938904335757337482424)\n",
    "\n",
    "ord_g = 0xFFFFFFFFFFFFFFFFFFFFFFFFFFFFFFFEBAAEDCE6AF48A03BBFD25E8CD0364141"
   ]
  },
  {
   "cell_type": "markdown",
   "metadata": {},
   "source": [
    "Now we will implement our Diffie-Hellman system using this curve and this point:"
   ]
  },
  {
   "cell_type": "code",
   "execution_count": 23,
   "metadata": {},
   "outputs": [
    {
     "name": "stdout",
     "output_type": "stream",
     "text": [
      "Alice public: (108629317450522572251136874684335088369233471317489605553632955466280510379584, 72358629170881814577835349269198168648275740110070247484431175724914462690050)\n",
      "Bob public: (15984370882032663267146863717562544504627444165074749908970731501099432907003, 5139123683284660511613724407047629075325221985457711952370660620238087809074)\n",
      "\n",
      "\n",
      "Alice shared: (27612437625720277746419096830919095246600325285112209245281851848392432469654, 102840273571670798123855200284376622796729442091517680482091878793386794487163)\n",
      "Bob shared: (27612437625720277746419096830919095246600325285112209245281851848392432469654, 102840273571670798123855200284376622796729442091517680482091878793386794487163)\n",
      "\n",
      "Are Alice and Bob's shared keys equal: True\n"
     ]
    }
   ],
   "source": [
    "# Define actors alice and bob\n",
    "alice = ECDH(g, ecurve)\n",
    "bob = ECDH(g, ecurve)\n",
    "\n",
    "# Calculate respective public keys for alice and bob\n",
    "a_pub = alice.get_public()\n",
    "b_pub = bob.get_public()\n",
    "\n",
    "# Display their public keys\n",
    "print(\"Alice public:\", a_pub)\n",
    "print(\"Bob public:\", b_pub)\n",
    "print()\n",
    "\n",
    "# Calculate respective shared keys\n",
    "a_share = alice.get_shared(b_pub)\n",
    "b_share = bob.get_shared(a_pub)\n",
    "print()\n",
    "\n",
    "# Display their shared keys\n",
    "print(\"Alice shared:\", alice.get_shared(b_pub))\n",
    "print(\"Bob shared:\", bob.get_shared(a_pub))\n",
    "print()\n",
    "\n",
    "# Are their keys equal?\n",
    "print(\"Are Alice and Bob's shared keys equal:\", a_share == b_share)"
   ]
  },
  {
   "cell_type": "markdown",
   "metadata": {},
   "source": [
    "Now we will implement our El Gamal system on this curve, using the `EllipticCurve.random_point(self)` method to encrypt random points along our curve:"
   ]
  },
  {
   "cell_type": "code",
   "execution_count": 25,
   "metadata": {},
   "outputs": [
    {
     "name": "stdout",
     "output_type": "stream",
     "text": [
      "Alice's public: (10623622504415209626867932191185031996580021978528547138051270181852991851116, 60910882014378396329200088023943333376641988868750377065392736679959705003081)\n",
      "Bob's public: (4468592596632355405001463523024233232274393664724973831138954930909111508683, 52259638144403301421292120036554625680181929393591560881094333072959421950016)\n",
      "\n",
      "Encrypting:  (82124425889039402198298786597738133116957533929811593491899113628790769623417, 95370143332216812720847541991300607112689142901856702595468730217789251724930)\n",
      "\n",
      "Alice encrypted: ((10623622504415209626867932191185031996580021978528547138051270181852991851116, 60910882014378396329200088023943333376641988868750377065392736679959705003081), (41241601479309793376225962713649146171338784619098412818170873213021253951232, 63563604284178499437852136165132081231149854980395710372853629008738616853103))\n",
      "Bob encrypted: ((4468592596632355405001463523024233232274393664724973831138954930909111508683, 52259638144403301421292120036554625680181929393591560881094333072959421950016), (41241601479309793376225962713649146171338784619098412818170873213021253951232, 63563604284178499437852136165132081231149854980395710372853629008738616853103))\n",
      "\n",
      "Alice decrypted:  (82124425889039402198298786597738133116957533929811593491899113628790769623417, 95370143332216812720847541991300607112689142901856702595468730217789251724930)\n",
      "Bob decrypted:  (82124425889039402198298786597738133116957533929811593491899113628790769623417, 95370143332216812720847541991300607112689142901856702595468730217789251724930)\n",
      "\n",
      "Decrypted values match values to encrypt? True\n"
     ]
    }
   ],
   "source": [
    "# Define our actors for our system using the generator point previously defined\n",
    "alice_gamal = ECActor(g, ord_g, ecurve)\n",
    "bob_gamal = ECActor(g, ord_g, ecurve)\n",
    "\n",
    "# Calculate their respective public keys\n",
    "a_pub = alice_gamal.get_public()\n",
    "b_pub = bob_gamal.get_public()\n",
    "\n",
    "# Display public keys\n",
    "print(\"Alice's public:\", a_pub)\n",
    "print(\"Bob's public:\", b_pub)\n",
    "print()\n",
    "\n",
    "# Generate and display a random point along the curve\n",
    "to_encrypt = ecurve.random_point()\n",
    "print(\"Encrypting: \", to_encrypt)\n",
    "print()\n",
    "\n",
    "# Have each of our actors encrypt our random point\n",
    "alice_encrypt = alice_gamal.encrypt(to_encrypt, b_pub)\n",
    "bob_encrypt = bob_gamal.encrypt(to_encrypt, a_pub)\n",
    "\n",
    "# Display the encrypted values\n",
    "print(\"Alice encrypted:\", alice_encrypt)\n",
    "print(\"Bob encrypted:\", bob_encrypt)\n",
    "print()\n",
    "\n",
    "# Decrypt the other actors' encrypted values\n",
    "alice_decrypt = alice_gamal.decrypt(bob_encrypt)\n",
    "bob_decrypt = bob_gamal.decrypt(alice_encrypt)\n",
    "\n",
    "# Display decrypted values\n",
    "print(\"Alice decrypted: \", alice_decrypt)\n",
    "print(\"Bob decrypted: \", bob_decrypt)\n",
    "print()\n",
    "\n",
    "# Assert that all the encrypted values are the same\n",
    "print(\"Decrypted values match values to encrypt?\", to_encrypt == alice_decrypt == bob_decrypt)"
   ]
  },
  {
   "cell_type": "markdown",
   "metadata": {},
   "source": [
    "---\n",
    "## Testing Our Implementation\n",
    "\n",
    "### Timing our Systems\n",
    "Now that we have tested our implementation, we can determine how the speed of our model compares to other cryptosystems. We will begin by sampling and graphing the time to randomly generate a point, encrypt that point, and decrypt that point."
   ]
  },
  {
   "cell_type": "code",
   "execution_count": 27,
   "metadata": {},
   "outputs": [],
   "source": [
    "import time"
   ]
  },
  {
   "cell_type": "code",
   "execution_count": 28,
   "metadata": {},
   "outputs": [],
   "source": [
    "tests = 100\n",
    "\n",
    "gen_time = []\n",
    "encrypt_time = []\n",
    "decrypt_time = []\n",
    "\n",
    "for i in range(tests):\n",
    "    # Measure time to generate random point\n",
    "    t = time.time()\n",
    "    to_encrypt = ecurve.random_point()\n",
    "    gen_time.append(time.time() - t)\n",
    "\n",
    "    # Measure time to encrypt point\n",
    "    t = time.time()\n",
    "    encrypted = alice_gamal.encrypt(to_encrypt, b_pub)\n",
    "    encrypt_time.append(time.time() - t)\n",
    "\n",
    "    # Measure time to decrypt point\n",
    "    t = time.time()\n",
    "    decrypted = bob_gamal.decrypt(encrypted)\n",
    "    decrypt_time.append(time.time() - t)\n",
    "\n",
    "    assert to_encrypt == decrypted"
   ]
  },
  {
   "cell_type": "markdown",
   "metadata": {},
   "source": [
    "Now we will take the averages of each of these arrays:"
   ]
  },
  {
   "cell_type": "code",
   "execution_count": 30,
   "metadata": {},
   "outputs": [],
   "source": [
    "def avg(array):\n",
    "    \"\"\"\n",
    "    Simple helper function to calculate average of an array\n",
    "    \"\"\"\n",
    "    return sum(array) / len(array)\n",
    "\n",
    "gen_avg = avg(gen_time)\n",
    "encrypt_avg = avg(encrypt_time)\n",
    "decrypt_avg = avg(decrypt_time)"
   ]
  },
  {
   "cell_type": "code",
   "execution_count": 31,
   "metadata": {},
   "outputs": [],
   "source": [
    "import matplotlib.pyplot as plt"
   ]
  },
  {
   "cell_type": "code",
   "execution_count": 32,
   "metadata": {},
   "outputs": [
    {
     "data": {
      "image/png": "[encoded data removed]",
      "text/plain": [
       "<Figure size 640x480 with 1 Axes>"
      ]
     },
     "metadata": {},
     "output_type": "display_data"
    }
   ],
   "source": [
    "plt.bar(['Generation', 'Encryption', 'Decryption'], [avg(gen_time), avg(encrypt_time), avg(decrypt_time)])\n",
    "plt.ylabel('Time (seconds)')\n",
    "plt.title('Generation, Encryption, and Decryption Times for Homemade Elliptic Curve Cryptography')\n",
    "plt.show()"
   ]
  },
  {
   "cell_type": "markdown",
   "metadata": {},
   "source": [
    "Let's now look at how these times stack up to our homemade RSA and DES implementations: [Source of Graph](https://github.com/JoeDoyle12/RSAResearch)"
   ]
  },
  {
   "cell_type": "markdown",
   "metadata": {},
   "source": [
    "<img src=\"images/HomeRSAvsDES.png\" alt=\"HomeRSA vs DES Time\">"
   ]
  },
  {
   "cell_type": "markdown",
   "metadata": {},
   "source": [
    "### Time Testing Results\n",
    "\n",
    "We see that our Elliptic Curve Cryptography System takes significantly longer than RSA and DES to encrypt data, but our elliptic curve decryption time is smaller than both RSA and DES. RSA is a common asymmetric cryptographic protocol, while DES is a common symmetric protocol. These results are promising, and show that our Elliptic Curve algorithm's speed is highly competitive."
   ]
  },
  {
   "cell_type": "markdown",
   "metadata": {},
   "source": [
    "## Conclusion\n",
    "\n",
    "Elliptic Curves are powerful tools are widely used in asymmetric cryptosystems due to their difficult discrete log problem. The other files in this repository contain the classes used in these demonstrations, the EllipticCurve, ECDH, ECActor classes. They are all implemented entirely in Python.\n",
    "\n",
    "It turns out that Quantum Computers are also adept at solving the Elliptic Curve discrete logarithm, using a modified Shor's algorithm. This means that Elliptic Curve Cryptography may be phased out soon in favor of cryptosystems resistant to quantum attacks."
   ]
  },
  {
   "cell_type": "code",
   "execution_count": null,
   "metadata": {},
   "outputs": [],
   "source": []
  }
 ],
 "metadata": {
  "interpreter": {
   "hash": "aee8b7b246df8f9039afb4144a1f6fd8d2ca17a180786b69acc140d282b71a49"
  },
  "kernelspec": {
   "display_name": "Python 3 (ipykernel)",
   "language": "python",
   "name": "python3"
  },
  "language_info": {
   "codemirror_mode": {
    "name": "ipython",
    "version": 3
   },
   "file_extension": ".py",
   "mimetype": "text/x-python",
   "name": "python",
   "nbconvert_exporter": "python",
   "pygments_lexer": "ipython3",
   "version": "3.11.7"
  }
 },
 "nbformat": 4,
 "nbformat_minor": 4
}
